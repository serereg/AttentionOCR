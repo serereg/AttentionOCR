{
 "metadata": {
  "language_info": {
   "codemirror_mode": {
    "name": "ipython",
    "version": 3
   },
   "file_extension": ".py",
   "mimetype": "text/x-python",
   "name": "python",
   "nbconvert_exporter": "python",
   "pygments_lexer": "ipython3",
   "version": "3.8.2-final"
  },
  "orig_nbformat": 2,
  "kernelspec": {
   "name": "python3",
   "display_name": "Python 3.8.2 64-bit",
   "metadata": {
    "interpreter": {
     "hash": "5edc29c2ed010d6458d71a83433b383a96a8cbd3efe8531bc90c4b8a5b8bcec9"
    }
   }
  }
 },
 "nbformat": 4,
 "nbformat_minor": 2,
 "cells": [
  {
   "cell_type": "code",
   "execution_count": 2,
   "metadata": {},
   "outputs": [],
   "source": [
    "import torch\n",
    "import pandas as pd\n",
    "import numpy as np\n",
    "import torchvision\n"
   ]
  },
  {
   "cell_type": "code",
   "execution_count": 35,
   "metadata": {},
   "outputs": [
    {
     "output_type": "execute_result",
     "data": {
      "text/plain": [
       "[2, 0]"
      ]
     },
     "metadata": {},
     "execution_count": 35
    }
   ],
   "source": [
    "with open('data/latex_vocab.txt', 'r') as f:\n",
    "    strs = f.readlines()\n",
    "strs = {s.strip(): i for i, s in enumerate(strs)}\n",
    "strs\n",
    "list(map(lambda x: strs[x], ['!', 'EOF']))"
   ]
  },
  {
   "cell_type": "code",
   "execution_count": 3,
   "metadata": {},
   "outputs": [
    {
     "output_type": "execute_result",
     "data": {
      "text/plain": [
       "torch.Size([40, 1, 256])"
      ]
     },
     "metadata": {},
     "execution_count": 3
    }
   ],
   "source": [
    "from src.model.encoder import Encoder\n",
    "\n",
    "a = torch.ones((1, 1, 34, 64))\n",
    "encoder = Encoder()\n",
    "b = encoder(a)\n",
    "b.shape"
   ]
  },
  {
   "cell_type": "code",
   "execution_count": 1,
   "metadata": {},
   "outputs": [],
   "source": [
    "from src.utils.dataset import get_dataloader\n",
    "\n",
    "dl, vocab = get_dataloader('data/train_filter.lst', 'data/images_processed/', 'data/formulas_tokenized.lst', 'data/latex_vocab.txt', 'cpu')"
   ]
  },
  {
   "cell_type": "code",
   "execution_count": 10,
   "metadata": {},
   "outputs": [
    {
     "output_type": "execute_result",
     "data": {
      "text/plain": [
       "array(['\\\\int', '_', '{', '-', '\\\\epsilon', '}', '^', '\\\\infty', 'd', 'l',\n",
       "       '\\\\:', '{', '\\\\rm', 'e', '}', '^', '{', '-', 'l', '\\\\zeta', '}',\n",
       "       '\\\\int', '_', '{', '-', '\\\\epsilon', '}', '^', '\\\\infty', 'd', 'l',\n",
       "       \"'\", '{', '\\\\rm', 'e', '}', '^', '{', '-', 'l', \"'\", '\\\\zeta', '}',\n",
       "       'l', 'l', \"'\", '{', 'l', \"'\", '-', 'l', '\\\\over', 'l', '+', 'l',\n",
       "       \"'\", '}', '\\\\{', '3', '\\\\,', '\\\\delta', \"'\", \"'\", '(', 'l', ')',\n",
       "       '-', '{', '3', '\\\\over', '4', '}', 't', '\\\\,', '\\\\delta', '(', 'l',\n",
       "       ')', '\\\\}', '=', '0', '.'], dtype='<U8')"
      ]
     },
     "metadata": {},
     "execution_count": 10
    }
   ],
   "source": [
    "dl.dataset.formulas.iloc[0].values[0]"
   ]
  },
  {
   "cell_type": "code",
   "execution_count": 3,
   "metadata": {},
   "outputs": [
    {
     "output_type": "execute_result",
     "data": {
      "text/plain": [
       "[tensor([[[[0.5000, 0.5000, 0.5000,  ..., 0.5000, 0.5000, 0.5000],\n",
       "           [0.5000, 0.5000, 0.5000,  ..., 0.5000, 0.5000, 0.5000],\n",
       "           [0.5000, 0.5000, 0.5000,  ..., 0.5000, 0.5000, 0.5000],\n",
       "           ...,\n",
       "           [0.5000, 0.5000, 0.5000,  ..., 0.5000, 0.5000, 0.5000],\n",
       "           [0.5000, 0.5000, 0.5000,  ..., 0.5000, 0.5000, 0.5000],\n",
       "           [0.5000, 0.5000, 0.5000,  ..., 0.5000, 0.5000, 0.5000]]]]),\n",
       " tensor([[[0., 0., 0.,  ..., 0., 0., 0.],\n",
       "          [0., 0., 0.,  ..., 0., 0., 0.],\n",
       "          [0., 0., 0.,  ..., 0., 0., 0.],\n",
       "          ...,\n",
       "          [0., 0., 0.,  ..., 0., 1., 0.],\n",
       "          [0., 0., 0.,  ..., 0., 0., 0.],\n",
       "          [0., 0., 0.,  ..., 0., 0., 0.]]]),\n",
       " tensor([95])]"
      ]
     },
     "metadata": {},
     "execution_count": 3
    }
   ],
   "source": [
    "for b in dl:\n",
    "    batch = b\n",
    "    break\n",
    "batch"
   ]
  },
  {
   "cell_type": "code",
   "execution_count": 4,
   "metadata": {},
   "outputs": [
    {
     "output_type": "execute_result",
     "data": {
      "text/plain": [
       "torch.Size([1, 95, 562])"
      ]
     },
     "metadata": {},
     "execution_count": 4
    }
   ],
   "source": []
  }
 ]
}