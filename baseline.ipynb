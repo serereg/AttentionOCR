{
 "metadata": {
  "language_info": {
   "codemirror_mode": {
    "name": "ipython",
    "version": 3
   },
   "file_extension": ".py",
   "mimetype": "text/x-python",
   "name": "python",
   "nbconvert_exporter": "python",
   "pygments_lexer": "ipython3",
   "version": "3.8.2-final"
  },
  "orig_nbformat": 2,
  "kernelspec": {
   "name": "python3",
   "display_name": "Python 3.8.2 64-bit",
   "metadata": {
    "interpreter": {
     "hash": "5edc29c2ed010d6458d71a83433b383a96a8cbd3efe8531bc90c4b8a5b8bcec9"
    }
   }
  }
 },
 "nbformat": 4,
 "nbformat_minor": 2,
 "cells": [
  {
   "cell_type": "code",
   "execution_count": 1,
   "metadata": {},
   "outputs": [],
   "source": [
    "import torch\n",
    "import pandas as pd\n",
    "import numpy as np\n",
    "import torchvision\n",
    "import PIL\n",
    "from PIL import Image\n"
   ]
  },
  {
   "cell_type": "code",
   "execution_count": 2,
   "metadata": {},
   "outputs": [],
   "source": [
    "from src.utils.dataset import get_dataloader\n",
    "\n",
    "dl, vocab = get_dataloader('data/train_filter.lst', 'data/images_processed/', 'data/formulas_tokenized.lst', 'data/latex_vocab.txt', 'cpu')"
   ]
  },
  {
   "source": [
    "%%time\n",
    "for b in dl:\n",
    "    batch = b\n",
    "    break\n",
    "batch['tokens']"
   ],
   "cell_type": "code",
   "metadata": {},
   "execution_count": 3,
   "outputs": [
    {
     "output_type": "stream",
     "name": "stdout",
     "text": [
      "CPU times: user 19.6 ms, sys: 8.5 ms, total: 28.1 ms\nWall time: 19.6 ms\n"
     ]
    },
    {
     "output_type": "execute_result",
     "data": {
      "text/plain": [
       "tensor([[529, 544, 523, 552,  47, 560,  74,   6,  38,  11, 552, 542, 528, 540,\n",
       "         544, 477, 377, 543, 560,   7, 523, 552,  47, 377,  38,   9, 158, 523,\n",
       "         552,  47, 560, 560, 296, 529, 543, 523,  47,   9, 543, 523,  47, 529,\n",
       "         477, 523,  47,   9, 543, 523,  47, 544, 534, 539, 523,  47, 477, 529,\n",
       "         495, 523,  47, 407,  11, 552, 529, 545, 523,  47, 377,   6,  38,  11,\n",
       "         552, 542, 528, 540, 544, 477, 377, 543, 560,   7, 523, 552,  47, 377,\n",
       "          38,   9, 158, 523, 552,  47, 560, 560, 560, 111,  20,   0]])"
      ]
     },
     "metadata": {},
     "execution_count": 3
    }
   ]
  },
  {
   "cell_type": "code",
   "execution_count": 4,
   "metadata": {},
   "outputs": [
    {
     "output_type": "stream",
     "name": "stdout",
     "text": [
      "CPU times: user 9.06 s, sys: 1.26 s, total: 10.3 s\nWall time: 8.36 s\n"
     ]
    },
    {
     "output_type": "execute_result",
     "data": {
      "text/plain": [
       "torch.Size([96, 562])"
      ]
     },
     "metadata": {},
     "execution_count": 4
    }
   ],
   "source": [
    "%%time\n",
    "from src.model.model import AttentionOCR\n",
    "\n",
    "model = AttentionOCR(len(dl.dataset.vocab))\n",
    "res = model(batch)\n",
    "res.shape"
   ]
  },
  {
   "cell_type": "code",
   "execution_count": 81,
   "metadata": {},
   "outputs": [
    {
     "output_type": "execute_result",
     "data": {
      "text/plain": [
       "PIL.Image.Image"
      ]
     },
     "metadata": {},
     "execution_count": 81
    }
   ],
   "source": [
    "img = Image.open('data/example2.png').convert('L')\n",
    "# img = img.resize((img.size[0] // 2, img.size[1] // 2), Image.LANCZOS)\n",
    "type(img)"
   ]
  },
  {
   "cell_type": "code",
   "execution_count": 13,
   "metadata": {},
   "outputs": [
    {
     "output_type": "execute_result",
     "data": {
      "text/plain": [
       "<PIL.Image.Image image mode=L size=532x148 at 0x133C43AF0>"
      ],
      "image/png": "[encoded data removed]"
     },
     "metadata": {},
     "execution_count": 13
    }
   ],
   "source": [
    "img_np = np.array(img)\n",
    "img_np[img_np > 196] = 196\n",
    "# img_np[img_np < 106] = 0\n",
    "Image.fromarray(img_np)"
   ]
  },
  {
   "cell_type": "code",
   "execution_count": 14,
   "metadata": {},
   "outputs": [
    {
     "output_type": "execute_result",
     "data": {
      "text/plain": [
       "tensor([[[0.7686, 0.7686, 0.7686,  ..., 0.7686, 0.7686, 0.7686],\n",
       "         [0.7686, 0.7686, 0.7686,  ..., 0.7686, 0.7686, 0.7686],\n",
       "         [0.7686, 0.7686, 0.7686,  ..., 0.7686, 0.7686, 0.7686],\n",
       "         ...,\n",
       "         [0.7686, 0.7686, 0.7686,  ..., 0.7686, 0.7686, 0.7686],\n",
       "         [0.7686, 0.7686, 0.7686,  ..., 0.7686, 0.7686, 0.7686],\n",
       "         [0.7686, 0.7686, 0.7686,  ..., 0.7686, 0.7686, 0.7686]]])"
      ]
     },
     "metadata": {},
     "execution_count": 14
    }
   ],
   "source": [
    "from torchvision.transforms import Normalize, ToTensor, Compose\n",
    "\n",
    "trans = Compose([ToTensor()])\n",
    "ten = trans(Image.fromarray(img_np))\n",
    "ten"
   ]
  },
  {
   "cell_type": "code",
   "execution_count": 14,
   "metadata": {},
   "outputs": [
    {
     "output_type": "execute_result",
     "data": {
      "text/plain": [
       "(tensor(6.3705, grad_fn=<NllLossBackward>),\n",
       " tensor([[1., 1., 1., 1., 1.],\n",
       "         [1., 1., 1., 1., 1.],\n",
       "         [1., 1., 1., 1., 1.]]),\n",
       " tensor([1, 1, 1]))"
      ]
     },
     "metadata": {},
     "execution_count": 14
    }
   ],
   "source": [
    "a = torch.ones((3)).long()\n",
    "b = torch.ones((3, 5))\n",
    "# b[:,2:] = 0\n",
    "# b[:,0] = 0\n",
    "l = torch.nn.NLLLoss()\n",
    "l(res, batch['tokens'].squeeze()), b, a"
   ]
  },
  {
   "cell_type": "code",
   "execution_count": 34,
   "metadata": {},
   "outputs": [
    {
     "output_type": "execute_result",
     "data": {
      "text/plain": [
       "tensor([1, 0])"
      ]
     },
     "metadata": {},
     "execution_count": 34
    }
   ],
   "source": [
    "torch.argmax(torch.tensor([[1, 2], [4, 3]]), 1)"
   ]
  },
  {
   "cell_type": "code",
   "execution_count": 71,
   "metadata": {},
   "outputs": [
    {
     "output_type": "execute_result",
     "data": {
      "text/plain": [
       "0.6666666666666666"
      ]
     },
     "metadata": {},
     "execution_count": 71
    }
   ],
   "source": [
    "bleu_score.sentence_bleu([np.array([1, 2])], np.array([1, 2, 4]), (1,))"
   ]
  },
  {
   "cell_type": "code",
   "execution_count": null,
   "metadata": {},
   "outputs": [],
   "source": []
  },
  {
   "cell_type": "code",
   "execution_count": 20,
   "metadata": {},
   "outputs": [
    {
     "output_type": "stream",
     "text": [
      "\u001b[0;31mSignature:\u001b[0m\n",
      "\u001b[0mbleu_score\u001b[0m\u001b[0;34m.\u001b[0m\u001b[0msentence_bleu\u001b[0m\u001b[0;34m(\u001b[0m\u001b[0;34m\u001b[0m\n",
      "\u001b[0;34m\u001b[0m    \u001b[0mreferences\u001b[0m\u001b[0;34m,\u001b[0m\u001b[0;34m\u001b[0m\n",
      "\u001b[0;34m\u001b[0m    \u001b[0mhypothesis\u001b[0m\u001b[0;34m,\u001b[0m\u001b[0;34m\u001b[0m\n",
      "\u001b[0;34m\u001b[0m    \u001b[0mweights\u001b[0m\u001b[0;34m=\u001b[0m\u001b[0;34m(\u001b[0m\u001b[0;36m0.25\u001b[0m\u001b[0;34m,\u001b[0m \u001b[0;36m0.25\u001b[0m\u001b[0;34m,\u001b[0m \u001b[0;36m0.25\u001b[0m\u001b[0;34m,\u001b[0m \u001b[0;36m0.25\u001b[0m\u001b[0;34m)\u001b[0m\u001b[0;34m,\u001b[0m\u001b[0;34m\u001b[0m\n",
      "\u001b[0;34m\u001b[0m    \u001b[0msmoothing_function\u001b[0m\u001b[0;34m=\u001b[0m\u001b[0;32mNone\u001b[0m\u001b[0;34m,\u001b[0m\u001b[0;34m\u001b[0m\n",
      "\u001b[0;34m\u001b[0m    \u001b[0mauto_reweigh\u001b[0m\u001b[0;34m=\u001b[0m\u001b[0;32mFalse\u001b[0m\u001b[0;34m,\u001b[0m\u001b[0;34m\u001b[0m\n",
      "\u001b[0;34m\u001b[0m\u001b[0;34m)\u001b[0m\u001b[0;34m\u001b[0m\u001b[0;34m\u001b[0m\u001b[0m\n",
      "\u001b[0;31mDocstring:\u001b[0m\n",
      "Calculate BLEU score (Bilingual Evaluation Understudy) from\n",
      "Papineni, Kishore, Salim Roukos, Todd Ward, and Wei-Jing Zhu. 2002.\n",
      "\"BLEU: a method for automatic evaluation of machine translation.\"\n",
      "In Proceedings of ACL. http://www.aclweb.org/anthology/P02-1040.pdf\n",
      "\n",
      ">>> hypothesis1 = ['It', 'is', 'a', 'guide', 'to', 'action', 'which',\n",
      "...               'ensures', 'that', 'the', 'military', 'always',\n",
      "...               'obeys', 'the', 'commands', 'of', 'the', 'party']\n",
      "\n",
      ">>> hypothesis2 = ['It', 'is', 'to', 'insure', 'the', 'troops',\n",
      "...               'forever', 'hearing', 'the', 'activity', 'guidebook',\n",
      "...               'that', 'party', 'direct']\n",
      "\n",
      ">>> reference1 = ['It', 'is', 'a', 'guide', 'to', 'action', 'that',\n",
      "...               'ensures', 'that', 'the', 'military', 'will', 'forever',\n",
      "...               'heed', 'Party', 'commands']\n",
      "\n",
      ">>> reference2 = ['It', 'is', 'the', 'guiding', 'principle', 'which',\n",
      "...               'guarantees', 'the', 'military', 'forces', 'always',\n",
      "...               'being', 'under', 'the', 'command', 'of', 'the',\n",
      "...               'Party']\n",
      "\n",
      ">>> reference3 = ['It', 'is', 'the', 'practical', 'guide', 'for', 'the',\n",
      "...               'army', 'always', 'to', 'heed', 'the', 'directions',\n",
      "...               'of', 'the', 'party']\n",
      "\n",
      ">>> sentence_bleu([reference1, reference2, reference3], hypothesis1) # doctest: +ELLIPSIS\n",
      "0.5045...\n",
      "\n",
      "If there is no ngrams overlap for any order of n-grams, BLEU returns the\n",
      "value 0. This is because the precision for the order of n-grams without\n",
      "overlap is 0, and the geometric mean in the final BLEU score computation\n",
      "multiplies the 0 with the precision of other n-grams. This results in 0\n",
      "(independently of the precision of the othe n-gram orders). The following\n",
      "example has zero 3-gram and 4-gram overlaps:\n",
      "\n",
      ">>> round(sentence_bleu([reference1, reference2, reference3], hypothesis2),4) # doctest: +ELLIPSIS\n",
      "0.0\n",
      "\n",
      "To avoid this harsh behaviour when no ngram overlaps are found a smoothing\n",
      "function can be used.\n",
      "\n",
      ">>> chencherry = SmoothingFunction()\n",
      ">>> sentence_bleu([reference1, reference2, reference3], hypothesis2,\n",
      "...     smoothing_function=chencherry.method1) # doctest: +ELLIPSIS\n",
      "0.0370...\n",
      "\n",
      "The default BLEU calculates a score for up to 4-grams using uniform\n",
      "weights (this is called BLEU-4). To evaluate your translations with\n",
      "higher/lower order ngrams, use customized weights. E.g. when accounting\n",
      "for up to 5-grams with uniform weights (this is called BLEU-5) use:\n",
      "\n",
      ">>> weights = (1./5., 1./5., 1./5., 1./5., 1./5.)\n",
      ">>> sentence_bleu([reference1, reference2, reference3], hypothesis1, weights) # doctest: +ELLIPSIS\n",
      "0.3920...\n",
      "\n",
      ":param references: reference sentences\n",
      ":type references: list(list(str))\n",
      ":param hypothesis: a hypothesis sentence\n",
      ":type hypothesis: list(str)\n",
      ":param weights: weights for unigrams, bigrams, trigrams and so on\n",
      ":type weights: list(float)\n",
      ":param smoothing_function:\n",
      ":type smoothing_function: SmoothingFunction\n",
      ":param auto_reweigh: Option to re-normalize the weights uniformly.\n",
      ":type auto_reweigh: bool\n",
      ":return: The sentence-level BLEU score.\n",
      ":rtype: float\n",
      "\u001b[0;31mFile:\u001b[0m      ~/Library/Python/3.8/lib/python/site-packages/nltk/translate/bleu_score.py\n",
      "\u001b[0;31mType:\u001b[0m      function\n"
     ],
     "name": "stdout"
    }
   ],
   "source": [
    "from nltk.translate import bleu_score\n",
    "?bleu_score.sentence_bleu"
   ]
  }
 ]
}