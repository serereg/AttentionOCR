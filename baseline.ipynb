{
 "metadata": {
  "language_info": {
   "codemirror_mode": {
    "name": "ipython",
    "version": 3
   },
   "file_extension": ".py",
   "mimetype": "text/x-python",
   "name": "python",
   "nbconvert_exporter": "python",
   "pygments_lexer": "ipython3",
   "version": "3.8.2-final"
  },
  "orig_nbformat": 2,
  "kernelspec": {
   "name": "python382jvsc74a57bd031f2aee4e71d21fbe5cf8b01ff0e069b9275f58929596ceb00d14d90e3e16cd6",
   "display_name": "Python 3.8.2 64-bit"
  },
  "metadata": {
   "interpreter": {
    "hash": "31f2aee4e71d21fbe5cf8b01ff0e069b9275f58929596ceb00d14d90e3e16cd6"
   }
  }
 },
 "nbformat": 4,
 "nbformat_minor": 2,
 "cells": [
  {
   "cell_type": "code",
   "execution_count": 2,
   "metadata": {},
   "outputs": [],
   "source": [
    "import torch\n",
    "import pandas as pd\n",
    "import numpy as np\n",
    "import torchvision\n",
    "import PIL\n",
    "from PIL import Image\n"
   ]
  },
  {
   "cell_type": "code",
   "execution_count": 4,
   "metadata": {},
   "outputs": [],
   "source": [
    "from src.utils.dataset import get_dataloader\n",
    "\n",
    "dl, vocab = get_dataloader('data/train_filter.lst', 'data/images_processed/', 'data/formulas_tokenized.lst', 'data/latex_vocab.txt')"
   ]
  },
  {
   "source": [
    "%%time\n",
    "for b in dl:\n",
    "    batch = b\n",
    "    break\n",
    "batch['img']"
   ],
   "cell_type": "code",
   "metadata": {},
   "execution_count": 5,
   "outputs": [
    {
     "output_type": "stream",
     "name": "stdout",
     "text": [
      "CPU times: user 16.3 ms, sys: 9.63 ms, total: 26 ms\nWall time: 54.2 ms\n"
     ]
    },
    {
     "output_type": "execute_result",
     "data": {
      "text/plain": [
       "tensor([[[[1., 1., 1.,  ..., 1., 1., 1.],\n",
       "          [1., 1., 1.,  ..., 1., 1., 1.],\n",
       "          [1., 1., 1.,  ..., 1., 1., 1.],\n",
       "          ...,\n",
       "          [1., 1., 1.,  ..., 1., 1., 1.],\n",
       "          [1., 1., 1.,  ..., 1., 1., 1.],\n",
       "          [1., 1., 1.,  ..., 1., 1., 1.]]]])"
      ]
     },
     "metadata": {},
     "execution_count": 5
    }
   ]
  },
  {
   "cell_type": "code",
   "execution_count": 6,
   "metadata": {},
   "outputs": [
    {
     "output_type": "stream",
     "name": "stdout",
     "text": [
      "CPU times: user 5.74 s, sys: 1.1 s, total: 6.84 s\nWall time: 5.45 s\n"
     ]
    },
    {
     "output_type": "execute_result",
     "data": {
      "text/plain": [
       "torch.Size([96, 562])"
      ]
     },
     "metadata": {},
     "execution_count": 6
    }
   ],
   "source": [
    "%%time\n",
    "from src.model.model import AttentionOCR\n",
    "\n",
    "model = AttentionOCR(len(dl.dataset.vocab))\n",
    "res = model(batch)\n",
    "res.shape"
   ]
  },
  {
   "cell_type": "code",
   "execution_count": 8,
   "metadata": {},
   "outputs": [
    {
     "output_type": "execute_result",
     "data": {
      "text/plain": [
       "PIL.Image.Image"
      ]
     },
     "metadata": {},
     "execution_count": 8
    }
   ],
   "source": [
    "img = Image.open('../main_data/example2.png').convert('L')\n",
    "# img = img.resize((img.size[0] // 2, img.size[1] // 2), Image.LANCZOS)\n",
    "type(img)"
   ]
  },
  {
   "cell_type": "code",
   "execution_count": 11,
   "metadata": {},
   "outputs": [
    {
     "output_type": "execute_result",
     "data": {
      "text/plain": [
       "<PIL.Image.Image image mode=L size=532x148 at 0x132183BE0>"
      ],
      "image/png": "[encoded data removed]"
     },
     "metadata": {},
     "execution_count": 11
    }
   ],
   "source": [
    "img_np = np.array(img)\n",
    "img_np[img_np > 196] = 255\n",
    "# img_np[img_np < 106] = 0\n",
    "Image.fromarray(img_np)"
   ]
  },
  {
   "cell_type": "code",
   "execution_count": 12,
   "metadata": {},
   "outputs": [
    {
     "output_type": "execute_result",
     "data": {
      "text/plain": [
       "tensor([[[1., 1., 1.,  ..., 1., 1., 1.],\n",
       "         [1., 1., 1.,  ..., 1., 1., 1.],\n",
       "         [1., 1., 1.,  ..., 1., 1., 1.],\n",
       "         ...,\n",
       "         [1., 1., 1.,  ..., 1., 1., 1.],\n",
       "         [1., 1., 1.,  ..., 1., 1., 1.],\n",
       "         [1., 1., 1.,  ..., 1., 1., 1.]]])"
      ]
     },
     "metadata": {},
     "execution_count": 12
    }
   ],
   "source": [
    "from torchvision.transforms import Normalize, ToTensor, Compose\n",
    "\n",
    "trans = Compose([ToTensor()])\n",
    "ten = trans(Image.fromarray(img_np))\n",
    "ten"
   ]
  },
  {
   "cell_type": "code",
   "execution_count": 19,
   "metadata": {},
   "outputs": [
    {
     "output_type": "execute_result",
     "data": {
      "text/plain": [
       "tensor(True)"
      ]
     },
     "metadata": {},
     "execution_count": 19
    }
   ],
   "source": [
    "(torch.Tensor(img_np) / 255 == ten).all()"
   ]
  },
  {
   "cell_type": "code",
   "execution_count": 34,
   "metadata": {},
   "outputs": [
    {
     "output_type": "execute_result",
     "data": {
      "text/plain": [
       "tensor([1, 0])"
      ]
     },
     "metadata": {},
     "execution_count": 34
    }
   ],
   "source": [
    "torch.argmax(torch.tensor([[1, 2], [4, 3]]), 1)"
   ]
  },
  {
   "cell_type": "code",
   "execution_count": 20,
   "metadata": {},
   "outputs": [
    {
     "output_type": "execute_result",
     "data": {
      "text/plain": [
       "                                                  image   idx\n",
       "0     <PIL.Image.Image image mode=L size=1000x200 at...     1\n",
       "1     <PIL.Image.Image image mode=L size=400x100 at ...     2\n",
       "2     <PIL.Image.Image image mode=L size=480x80 at 0...     3\n",
       "3     <PIL.Image.Image image mode=L size=560x80 at 0...     4\n",
       "4     <PIL.Image.Image image mode=L size=720x120 at ...     5\n",
       "...                                                 ...   ...\n",
       "4995  <PIL.Image.Image image mode=L size=560x80 at 0...  6344\n",
       "4996  <PIL.Image.Image image mode=L size=240x100 at ...  6345\n",
       "4997  <PIL.Image.Image image mode=L size=1000x200 at...  6346\n",
       "4998  <PIL.Image.Image image mode=L size=800x100 at ...  6347\n",
       "4999  <PIL.Image.Image image mode=L size=400x100 at ...  6348\n",
       "\n",
       "[5000 rows x 2 columns]"
      ],
      "text/html": "<div>\n<style scoped>\n    .dataframe tbody tr th:only-of-type {\n        vertical-align: middle;\n    }\n\n    .dataframe tbody tr th {\n        vertical-align: top;\n    }\n\n    .dataframe thead th {\n        text-align: right;\n    }\n</style>\n<table border=\"1\" class=\"dataframe\">\n  <thead>\n    <tr style=\"text-align: right;\">\n      <th></th>\n      <th>image</th>\n      <th>idx</th>\n    </tr>\n  </thead>\n  <tbody>\n    <tr>\n      <th>0</th>\n      <td>&lt;PIL.Image.Image image mode=L size=1000x200 at...</td>\n      <td>1</td>\n    </tr>\n    <tr>\n      <th>1</th>\n      <td>&lt;PIL.Image.Image image mode=L size=400x100 at ...</td>\n      <td>2</td>\n    </tr>\n    <tr>\n      <th>2</th>\n      <td>&lt;PIL.Image.Image image mode=L size=480x80 at 0...</td>\n      <td>3</td>\n    </tr>\n    <tr>\n      <th>3</th>\n      <td>&lt;PIL.Image.Image image mode=L size=560x80 at 0...</td>\n      <td>4</td>\n    </tr>\n    <tr>\n      <th>4</th>\n      <td>&lt;PIL.Image.Image image mode=L size=720x120 at ...</td>\n      <td>5</td>\n    </tr>\n    <tr>\n      <th>...</th>\n      <td>...</td>\n      <td>...</td>\n    </tr>\n    <tr>\n      <th>4995</th>\n      <td>&lt;PIL.Image.Image image mode=L size=560x80 at 0...</td>\n      <td>6344</td>\n    </tr>\n    <tr>\n      <th>4996</th>\n      <td>&lt;PIL.Image.Image image mode=L size=240x100 at ...</td>\n      <td>6345</td>\n    </tr>\n    <tr>\n      <th>4997</th>\n      <td>&lt;PIL.Image.Image image mode=L size=1000x200 at...</td>\n      <td>6346</td>\n    </tr>\n    <tr>\n      <th>4998</th>\n      <td>&lt;PIL.Image.Image image mode=L size=800x100 at ...</td>\n      <td>6347</td>\n    </tr>\n    <tr>\n      <th>4999</th>\n      <td>&lt;PIL.Image.Image image mode=L size=400x100 at ...</td>\n      <td>6348</td>\n    </tr>\n  </tbody>\n</table>\n<p>5000 rows × 2 columns</p>\n</div>"
     },
     "metadata": {},
     "execution_count": 20
    }
   ],
   "source": [
    "dl.dataset.data"
   ]
  },
  {
   "cell_type": "code",
   "execution_count": 71,
   "metadata": {},
   "outputs": [
    {
     "output_type": "execute_result",
     "data": {
      "text/plain": [
       "0.6666666666666666"
      ]
     },
     "metadata": {},
     "execution_count": 71
    }
   ],
   "source": [
    "from nltk.translate import bleu_score\n",
    "bleu_score.sentence_bleu([np.array([1, 2])], np.array([1, 2, 4]), (1,))"
   ]
  }
 ]
}